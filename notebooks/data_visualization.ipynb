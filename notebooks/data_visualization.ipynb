{
 "cells": [
  {
   "cell_type": "code",
   "execution_count": null,
   "metadata": {},
   "outputs": [],
   "source": [
    "import os\n",
    "os.chdir(\"..\")\n",
    "os.listdir()"
   ]
  },
  {
   "cell_type": "code",
   "execution_count": 2,
   "metadata": {},
   "outputs": [],
   "source": [
    "import sys\n",
    "import numpy as np\n",
    "from src.wellTie import *"
   ]
  },
  {
   "cell_type": "code",
   "execution_count": 3,
   "metadata": {},
   "outputs": [
    {
     "name": "stderr",
     "output_type": "stream",
     "text": [
      "C:\\Users\\Anon\\AppData\\Local\\Programs\\Python\\Python39\\lib\\site-packages\\welly\\well.py:194: FutureWarning: From v0.5 the default will be 'original', keeping whatever is used in the LAS file. If you want to force conversion to metres, change your code to use `index='m'`.\n",
      "  warnings.warn(m, FutureWarning)\n",
      "C:\\Users\\Anon\\AppData\\Local\\Programs\\Python\\Python39\\lib\\site-packages\\welly\\curve.py:216: UserWarning: Irregular sampling in depth is not supported. Interpolating to regular basis.\n",
      "  warnings.warn(m)\n"
     ]
    },
    {
     "name": "stdout",
     "output_type": "stream",
     "text": [
      "Best wavelet: f = 17.60, index roll = 6 and corr = 0.122\n"
     ]
    }
   ],
   "source": [
    "path = \"data/inputs_example.json\"\n",
    "#path = \"data/inputs_hackageo.json\"\n",
    "\n",
    "# user inputs `ui` passed as a json file\n",
    "ui = read_inputs(path)\n",
    "\n",
    "# read data defined in the input file\n",
    "data = read_data(ui)\n",
    "\n",
    "# pre-processing of data\n",
    "data = pre_processing_data(data)\n",
    "\n",
    "# time-depth relationship `tdr` from DT\n",
    "data = time_depth_relationship(data)\n",
    "\n",
    "# acoustic impedance\n",
    "data = ai(data)\n",
    "\n",
    "# reflectivity coefficients `rc` profile (in time)\n",
    "data = rc_time(data)\n",
    "\n",
    "# convolution of the wavelet with `rc` to obtain the synthetic seismogram\n",
    "data = synthetic_seismogram(data)\n",
    "\n",
    "# export data to Decision Workspace\n",
    "export_data(data)"
   ]
  },
  {
   "cell_type": "code",
   "execution_count": null,
   "metadata": {},
   "outputs": [],
   "source": []
  }
 ],
 "metadata": {
  "interpreter": {
   "hash": "ec58bd074f2674d69922168b746dd17455a7c8aabc656323b9eff27c8d529b67"
  },
  "kernelspec": {
   "display_name": "Python 3.9.2 64-bit",
   "language": "python",
   "name": "python3"
  },
  "language_info": {
   "codemirror_mode": {
    "name": "ipython",
    "version": 3
   },
   "file_extension": ".py",
   "mimetype": "text/x-python",
   "name": "python",
   "nbconvert_exporter": "python",
   "pygments_lexer": "ipython3",
   "version": "3.9.2"
  },
  "orig_nbformat": 4
 },
 "nbformat": 4,
 "nbformat_minor": 2
}
